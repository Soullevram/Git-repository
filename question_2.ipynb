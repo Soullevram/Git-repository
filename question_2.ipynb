{
 "cells": [
  {
   "cell_type": "code",
   "execution_count": 3,
   "id": "14235bd1-86a7-4aa8-9b87-cf8661a9c864",
   "metadata": {},
   "outputs": [
    {
     "name": "stdout",
     "output_type": "stream",
     "text": [
      "AT1G0010\n",
      "AT1G0020\n",
      "AT1G0030\n",
      "AT1G0040\n",
      "AT1G0050\n",
      "AT1G0060\n",
      "AT1G0070\n",
      "AT1G0080\n"
     ]
    }
   ],
   "source": [
    "gene_list = [\"AT1G0010\", \"AT1G0020\", \"AT1G0030\", \"AT1G0040\", \"AT1G0050\", \n",
    "\"AT1G0060\", \"AT1G0070\", \"AT1G0080\"]\n",
    "for genes in gene_list:\n",
    "    print(genes)"
   ]
  }
 ],
 "metadata": {
  "kernelspec": {
   "display_name": "Python [conda env:base] *",
   "language": "python",
   "name": "conda-base-py"
  },
  "language_info": {
   "codemirror_mode": {
    "name": "ipython",
    "version": 3
   },
   "file_extension": ".py",
   "mimetype": "text/x-python",
   "name": "python",
   "nbconvert_exporter": "python",
   "pygments_lexer": "ipython3",
   "version": "3.12.7"
  }
 },
 "nbformat": 4,
 "nbformat_minor": 5
}
